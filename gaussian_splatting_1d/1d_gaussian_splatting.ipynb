{
 "cells": [
  {
   "cell_type": "markdown",
   "id": "37b2458a",
   "metadata": {},
   "source": [
    "Before start this tutorial, please install some libs, mainly used are listed below:\n",
    "\n",
    "- Torch\n",
    "- Numpy\n",
    "- Matplotlib"
   ]
  },
  {
   "cell_type": "code",
   "execution_count": null,
   "id": "20a533ec",
   "metadata": {},
   "outputs": [],
   "source": [
    "# Import the necessary modules\n",
    "import matplotlib.pyplot as plt\n",
    "import numpy as np\n",
    "import torch\n",
    "import torch.nn as nn\n",
    "import torch.optim as optim\n",
    "from dataclasses import dataclass\n",
    "from typing import List, Tuple, Dict\n",
    "\n",
    "@dataclass\n",
    "class Gaussian:\n",
    "    pass"
   ]
  }
 ],
 "metadata": {
  "language_info": {
   "name": "python"
  }
 },
 "nbformat": 4,
 "nbformat_minor": 5
}
